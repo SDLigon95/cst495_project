{
 "cells": [
  {
   "cell_type": "markdown",
   "metadata": {},
   "source": [
    "# 'Presidential' Meme Search Engine\n",
    "\n",
    "## Still to do:\n",
    "\n",
    "improve speed if possible\n",
    "\n",
    "use all data to make plot of emotion data over time"
   ]
  },
  {
   "cell_type": "code",
   "execution_count": 256,
   "metadata": {
    "collapsed": true
   },
   "outputs": [],
   "source": [
    "# IMPORT VARIOUS LIBRARIES\n",
    "import pandas as pd\n",
    "import datetime\n",
    "import urllib2\n",
    "from IPython.display import display\n",
    "from pyparsing import makeHTMLTags, withAttribute, Optional, Group\n",
    "from IPython.core.display import HTML\n",
    "from difflib import SequenceMatcher\n",
    "%matplotlib inline\n",
    "import numpy as np\n",
    "import matplotlib.pyplot as plt\n",
    "import indicoio\n",
    "indicoio.config.api_key = 'b669130e3e1d07909794d8e5b7a6b11e'"
   ]
  },
  {
   "cell_type": "code",
   "execution_count": 229,
   "metadata": {
    "collapsed": false
   },
   "outputs": [
    {
     "name": "stdout",
     "output_type": "stream",
     "text": [
      "Done\n"
     ]
    }
   ],
   "source": [
    "# original import data DONT RUN ANYMORE\n",
    "'''trump = pd.read_csv(\"data/merged.csv\", index_col=[\"id\"],\n",
    "        usecols=[\"id\", \"caption\", \"likes\", \"network\", \"link\",\"timestamp\"], \n",
    "                    dtype={\"id\": int, \"caption\": str,\"link\":str, \"likes\": int, \"network\":str, \"timestamp\":str})'''\n",
    "# nrows=10 # limit read csv rows read\n",
    "#list(trump.columns.values) # used to list columns\n",
    "wordCount = 0\n",
    "rowCount = 0\n",
    "#trump.drop_duplicates(subset='caption', keep='last') #get rid of identical captions\n",
    "def clean():\n",
    "    wCount = 0\n",
    "    rCount = 0\n",
    "    for index, row in trump.iterrows():\n",
    "        row[\"caption\"] = row[\"caption\"].replace(\"\\\\n\", \"\")\n",
    "        row[\"caption\"] = row[\"caption\"].lower()\n",
    "        wCount += len(row[\"caption\"].split())\n",
    "        rCount += 1\n",
    "        trump.set_value(index, \"caption\", row[\"caption\"])\n",
    "        trump.set_value(index, \"timestamp\", datetime.datetime.strptime(row[\"timestamp\"], \"%m/%d/%y %H:%M\"))\n",
    "    info = {}\n",
    "    info[\"words\"] = wCount # total number of words\n",
    "    info[\"rows\"] = rCount # number of rows\n",
    "    info[\"avgWords\"] = wCount / rCount # ang words in each document\n",
    "    return info\n",
    "\n",
    "#info = clean()\n",
    "#trump.to_csv(\"data/clean.csv\")\n",
    "print(\"Done\")"
   ]
  },
  {
   "cell_type": "code",
   "execution_count": 230,
   "metadata": {
    "collapsed": false
   },
   "outputs": [],
   "source": [
    "# run to get data into python/notebook\n",
    "\n",
    "class qResults: # class for query results\n",
    "    def __init__(self, caption, network, likes, link, timestamp):\n",
    "        self.caption = caption\n",
    "        self.link = link\n",
    "        self.network = network\n",
    "        self.likes = likes\n",
    "        self.score = 0\n",
    "        self.timestamp = timestamp\n",
    "        \n",
    "def getInfo():\n",
    "    wCount = 0\n",
    "    rCount = 0\n",
    "    for index, row in trump.iterrows():\n",
    "        wCount += len(row[\"caption\"].split())\n",
    "        rCount += 1\n",
    "    info = {}\n",
    "    info[\"words\"] = wCount # total number of words\n",
    "    info[\"rows\"] = rCount # number of rows\n",
    "    info[\"avgWords\"] = wCount / rCount # ang words in each document\n",
    "    return info\n",
    "# read already cleaned dataset\n",
    "trump = pd.read_csv(\"data/clean.csv\", index_col=[\"id\"], \n",
    "        usecols=[\"id\", \"caption\", \"likes\", \"network\", \"link\",\"timestamp\"], \n",
    "                    dtype={\"id\": int, \"caption\": str,\"link\":str, \"likes\": int, \"network\":str, \"timestamp\":str})\n",
    "info = getInfo() # get some basic info on dataframe\n"
   ]
  },
  {
   "cell_type": "code",
   "execution_count": 231,
   "metadata": {
    "collapsed": false
   },
   "outputs": [
    {
     "data": {
      "text/html": [
       "<div id=\"fb-root\"></div>\n",
       "<script>(function(d, s, id) {\n",
       "  var js, fjs = d.getElementsByTagName(s)[0];\n",
       "  if (d.getElementById(id)) return;\n",
       "  js = d.createElement(s); js.id = id;\n",
       "  js.src = \"//connect.facebook.net/en_US/sdk.js#xfbml=1&version=v2.8\";\n",
       "  fjs.parentNode.insertBefore(js, fjs);\n",
       "}(document, 'script', 'facebook-jssdk'));</script>"
      ],
      "text/plain": [
       "<IPython.core.display.HTML object>"
      ]
     },
     "metadata": {},
     "output_type": "display_data"
    }
   ],
   "source": [
    "#facebook script for display of memes\n",
    "htmlScript = \"\"\"<div id=\"fb-root\"></div>\n",
    "<script>(function(d, s, id) {\n",
    "  var js, fjs = d.getElementsByTagName(s)[0];\n",
    "  if (d.getElementById(id)) return;\n",
    "  js = d.createElement(s); js.id = id;\n",
    "  js.src = \"//connect.facebook.net/en_US/sdk.js#xfbml=1&version=v2.8\";\n",
    "  fjs.parentNode.insertBefore(js, fjs);\n",
    "}(document, 'script', 'facebook-jssdk'));</script>\"\"\"\n",
    "htmlScr = HTML(htmlScript)\n",
    "display(htmlScr)"
   ]
  },
  {
   "cell_type": "code",
   "execution_count": 252,
   "metadata": {
    "collapsed": false
   },
   "outputs": [],
   "source": [
    "def search(query):\n",
    "    global trump # dataframe of memes\n",
    "    results = [] # list for results\n",
    "    qFrequency = {} # dictionary for frequency of each word in query\n",
    "    query = query.lower() # make consistent\n",
    "    if len(query.split()) > 1: # query has two or more words\n",
    "        \n",
    "        for qry in qSplit:\n",
    "            qFrequency[qry] = 0\n",
    "    else:\n",
    "        qFrequency[query] = 0\n",
    "    qSplit = query.split() # split into each word\n",
    "    for index, row in trump.iterrows():\n",
    "        if len(query.split()) > 0: # query has two or more words\n",
    "            allFound = True # all words query must be present to keep\n",
    "            for qry in qSplit: # go through each word in query string\n",
    "                if qry in row[\"caption\"]:\n",
    "                    qFrequency[qry] += row[\"caption\"].count(qry) # increment frequency of word in dataset       \n",
    "                else:\n",
    "                    allFound = False; # skip, not all words in query found\n",
    "            if allFound is True:\n",
    "                newResult = qResults(row[\"caption\"], row[\"network\"], row[\"likes\"], row[\"link\"], row[\"timestamp\"])\n",
    "                results.append(newResult) \n",
    "    res = {} # init dict to return\n",
    "    res[\"rows\"] = results # each results in a list\n",
    "    res[\"qf\"] = qFrequency # frequency of terms in a dictionary\n",
    "    return res\n",
    "\n",
    "def printResults(results, limit):\n",
    "    count = 0\n",
    "    htmlStr = \"<html><body>\" # begin html string\n",
    "    style = \"style=\\\"width:50%;\\\" \" # for images formatting\n",
    "    for r in results:\n",
    "        if count >= limit: #stop after limit\n",
    "            break\n",
    "        else:\n",
    "            if r.network == \"instagram\":\n",
    "                tempurl = \"https://www.{0}/\".format(r.link[8:len(r.link)])\n",
    "                try:\n",
    "                    response = urllib2.urlopen(tempurl) # check if exists\n",
    "                    html = response.read()\n",
    "                    meta,metaEnd = makeHTMLTags(\"meta\")\n",
    "                    img_meta = meta.copy().setParseAction(withAttribute(('property','og:image'))) # get image\n",
    "                    htmlStr += '<p>Score: ' + str(r.score) + \" url: \" + r.link + '</p>'\n",
    "                    #htmlStr += '<p>Date: ' + str(r.timestamp) + \" caption: \" + r.caption + '</p>'\n",
    "                    \n",
    "                    htmlStr += \"<img \" + style + \"src='\" + img_meta.searchString(html)[0].content + \"'>\" # show images\n",
    "                    \n",
    "                except:\n",
    "                    \"\"\"htmlStr += '<br><p>Instagram Image Not Found :(<br>'\n",
    "                    htmlStr += '<p>Score: ' + str(r.score) + \" url: \" + r.link + '</p>'\n",
    "                    htmlStr += '<p>Date: ' + str(r.timestamp) + \" caption: \" + r.caption + '</p>'\"\"\"\n",
    "                    limit += 1\n",
    "            elif r.network == \"imgur\":\n",
    "                tempurl = r.link\n",
    "                try:\n",
    "                    response = urllib2.urlopen(tempurl) # check if link is valid\n",
    "                    html = response.read()\n",
    "                    meta,metaEnd = makeHTMLTags(\"meta\")\n",
    "                    img_meta = meta.copy().setParseAction(withAttribute(('name','twitter:image'))) # find image\n",
    "                    htmlStr += '<p>Score: ' + str(r.score) + \" url: \" + r.link + '</p>'\n",
    "                    htmlStr += '<p>Date: ' + str(r.timestamp) + \" caption: \" + r.caption + '</p>'\n",
    "                    htmlStr += \"<img \" + style + \"src='\" + img_meta.searchString(html)[0].content + \"'>\" # show images\n",
    "                except:\n",
    "                    \"\"\"htmlStr += '<br><p>Imgur Image Not Found :(<br>'\n",
    "                    htmlStr += '<p>Score: ' + str(r.score) + \" url: \" + r.link + '</p>'\n",
    "                    htmlStr += '<p>Date: ' + str(r.timestamp) + \" caption: \" + r.caption + '</p>'\"\"\"\n",
    "                    limit += 1\n",
    "\n",
    "            elif r.network == \"facebook\":\n",
    "                try:\n",
    "                    response = urllib2.urlopen(r.link) # check if link is valid\n",
    "                    htmlStr += '<p>Score: ' + str(r.score) + \" url: \" + r.link + '</p>'\n",
    "                    #htmlStr += '<p>Date: ' + str(r.timestamp) + \" caption: \" + r.caption + '</p>'\n",
    "                    htmlStr += \"\"\"<div class=\"fb-post\" data-href=\"{0}\" \n",
    "                    data-width=\"500\" data-show-text=\"true\"><blockquote cite=\"{0}\" \n",
    "                    class=\"fb-xfbml-parse-ignore\">Posted by <a href=\"https://www.facebook.com/facebook/\">Facebook</a> on&nbsp;\n",
    "                    <a href=\"{0}\">{1}</a>\n",
    "                    </blockquote></div>\"\"\".format(r.link, str(r.timestamp))\n",
    "                except:\n",
    "                    limit += 1\n",
    "                            \n",
    "        count += 1\n",
    "    htmlStr += \"</body></html>\" # end html\n",
    "    html = HTML(htmlStr) \n",
    "    display(html) # show html\n",
    "    \n",
    "def similar(a, b): # check similarity of two strings\n",
    "    return SequenceMatcher(None, a, b).ratio()\n",
    "\n",
    "def getScores(results, info):\n",
    "    # BM25 Variables\n",
    "    k = 1.2\n",
    "    b = .75\n",
    "    for r in results[\"rows\"]:\n",
    "        r.score = 0\n",
    "        if r.network == \"imgur\" or r.network == \"instagram\" or r.network == \"facebook\":\n",
    "        #if r.network == \"imgur\" or r.network == \"instagram\": # witout facebook\n",
    "            for q in results[\"qf\"]: # give bm25 based score\n",
    "                fqd = r.caption.count(q)\n",
    "                tempScore = ((fqd * (k + 1) / (fqd + k * (1 - b + b * len(r.caption) / info[\"avgWords\"]))))\n",
    "                tempScore *= (info[\"rows\"] - results[\"qf\"][q] + .5) / (results[\"qf\"][q] + .5)\n",
    "                likeScore = r.likes * .1\n",
    "                maxLikeInfluence = 10\n",
    "                if likeScore > maxLikeInfluence:\n",
    "                    likeScore = maxLikeInfluence\n",
    "                elif likeScore < -maxLikeInfluence:\n",
    "                    likeScore = -maxLikeInfluence\n",
    "                tempScore += likeScore\n",
    "                r.score += tempScore\n",
    "    return results\n",
    "\n",
    "def noDuplicates(results, limit):\n",
    "    count = 0\n",
    "    dupFree = [] # no caption duplicates\n",
    "    index = 0\n",
    "    dupFree.append(results[\"rows\"][index]) # add first to list\n",
    "    index += 1\n",
    "    dupLimit = limit * 1.5 # get extra in case links are dead\n",
    "    if dupLimit > len(results[\"rows\"]):\n",
    "        dupLimit = len(results[\"rows\"])\n",
    "    while len(dupFree) < dupLimit and index < len(results[\"rows\"]):\n",
    "        dupFound = False # catch if similar caption found\n",
    "        for i in dupFree:\n",
    "            if similar(i.caption, results[\"rows\"][index].caption) > .8: # checks similarity\n",
    "                dupFound = True # duplicate found, don't add\n",
    "        if dupFound == False:\n",
    "            dupFree.append(results[\"rows\"][index]) # not a dup, add it\n",
    "        index += 1\n",
    "    return dupFree"
   ]
  },
  {
   "cell_type": "code",
   "execution_count": 251,
   "metadata": {
    "collapsed": false,
    "scrolled": false
   },
   "outputs": [
    {
     "data": {
      "text/html": [
       "<html><body><p>Score: 257.077961794 url: https://facebook.com/346786585442633/posts/1073098879478063</p><div class=\"fb-post\" data-href=\"https://facebook.com/346786585442633/posts/1073098879478063\" \n",
       "                    data-width=\"500\" data-show-text=\"true\"><blockquote cite=\"https://facebook.com/346786585442633/posts/1073098879478063\" \n",
       "                    class=\"fb-xfbml-parse-ignore\">Posted by <a href=\"https://www.facebook.com/facebook/\">Facebook</a> on&nbsp;\n",
       "                    <a href=\"https://facebook.com/346786585442633/posts/1073098879478063\">2016-10-09 14:37:00</a>\n",
       "                    </blockquote></div><p>Score: 221.495738898 url: https://facebook.com/346786585442633/posts/1072720826182535</p><div class=\"fb-post\" data-href=\"https://facebook.com/346786585442633/posts/1072720826182535\" \n",
       "                    data-width=\"500\" data-show-text=\"true\"><blockquote cite=\"https://facebook.com/346786585442633/posts/1072720826182535\" \n",
       "                    class=\"fb-xfbml-parse-ignore\">Posted by <a href=\"https://www.facebook.com/facebook/\">Facebook</a> on&nbsp;\n",
       "                    <a href=\"https://facebook.com/346786585442633/posts/1072720826182535\">2016-10-09 04:22:00</a>\n",
       "                    </blockquote></div><p>Score: 207.989625013 url: https://instagram.com/p/BLi48GXBEg7</p><img style=\"width:50%;\" src='https://instagram.fsnc1-3.fna.fbcdn.net/t51.2885-15/e35/14717551_703604749788308_7329469648921952256_n.jpg?ig_cache_key=MTM2MDkwMDQ1ODAyMTE0NDYzNQ%3D%3D.2'><p>Score: 197.186971055 url: https://instagram.com/p/BLZSNYFDJ1I</p><img style=\"width:50%;\" src='https://instagram.fsnc1-3.fna.fbcdn.net/t51.2885-15/e35/14515859_1771455503072505_3846127996498870272_n.jpg?ig_cache_key=MTM1ODE5Njg0NjY3MzgyOTE5Mg%3D%3D.2'><p>Score: 195.363183028 url: https://facebook.com/352859651422892/posts/1284157481626433</p><div class=\"fb-post\" data-href=\"https://facebook.com/352859651422892/posts/1284157481626433\" \n",
       "                    data-width=\"500\" data-show-text=\"true\"><blockquote cite=\"https://facebook.com/352859651422892/posts/1284157481626433\" \n",
       "                    class=\"fb-xfbml-parse-ignore\">Posted by <a href=\"https://www.facebook.com/facebook/\">Facebook</a> on&nbsp;\n",
       "                    <a href=\"https://facebook.com/352859651422892/posts/1284157481626433\">2016-10-11 13:47:00</a>\n",
       "                    </blockquote></div><p>Score: 184.48328955 url: https://facebook.com/272399502846199/posts/1094744003945074</p><div class=\"fb-post\" data-href=\"https://facebook.com/272399502846199/posts/1094744003945074\" \n",
       "                    data-width=\"500\" data-show-text=\"true\"><blockquote cite=\"https://facebook.com/272399502846199/posts/1094744003945074\" \n",
       "                    class=\"fb-xfbml-parse-ignore\">Posted by <a href=\"https://www.facebook.com/facebook/\">Facebook</a> on&nbsp;\n",
       "                    <a href=\"https://facebook.com/272399502846199/posts/1094744003945074\">2016-10-11 17:23:00</a>\n",
       "                    </blockquote></div><p>Score: 174.400193811 url: https://facebook.com/349661361796045/posts/1095313883897452</p><div class=\"fb-post\" data-href=\"https://facebook.com/349661361796045/posts/1095313883897452\" \n",
       "                    data-width=\"500\" data-show-text=\"true\"><blockquote cite=\"https://facebook.com/349661361796045/posts/1095313883897452\" \n",
       "                    class=\"fb-xfbml-parse-ignore\">Posted by <a href=\"https://www.facebook.com/facebook/\">Facebook</a> on&nbsp;\n",
       "                    <a href=\"https://facebook.com/349661361796045/posts/1095313883897452\">2016-10-18 01:00:00</a>\n",
       "                    </blockquote></div><p>Score: 163.878701205 url: https://facebook.com/353967728021064/posts/1150355571715605</p><div class=\"fb-post\" data-href=\"https://facebook.com/353967728021064/posts/1150355571715605\" \n",
       "                    data-width=\"500\" data-show-text=\"true\"><blockquote cite=\"https://facebook.com/353967728021064/posts/1150355571715605\" \n",
       "                    class=\"fb-xfbml-parse-ignore\">Posted by <a href=\"https://www.facebook.com/facebook/\">Facebook</a> on&nbsp;\n",
       "                    <a href=\"https://facebook.com/353967728021064/posts/1150355571715605\">2016-10-22 18:15:00</a>\n",
       "                    </blockquote></div><p>Score: 151.883225407 url: https://facebook.com/135904969853354/posts/963176520459524</p><div class=\"fb-post\" data-href=\"https://facebook.com/135904969853354/posts/963176520459524\" \n",
       "                    data-width=\"500\" data-show-text=\"true\"><blockquote cite=\"https://facebook.com/135904969853354/posts/963176520459524\" \n",
       "                    class=\"fb-xfbml-parse-ignore\">Posted by <a href=\"https://www.facebook.com/facebook/\">Facebook</a> on&nbsp;\n",
       "                    <a href=\"https://facebook.com/135904969853354/posts/963176520459524\">2016-10-15 03:37:00</a>\n",
       "                    </blockquote></div><p>Score: 150.941783268 url: https://facebook.com/174742062548592/posts/1252941701395284</p><div class=\"fb-post\" data-href=\"https://facebook.com/174742062548592/posts/1252941701395284\" \n",
       "                    data-width=\"500\" data-show-text=\"true\"><blockquote cite=\"https://facebook.com/174742062548592/posts/1252941701395284\" \n",
       "                    class=\"fb-xfbml-parse-ignore\">Posted by <a href=\"https://www.facebook.com/facebook/\">Facebook</a> on&nbsp;\n",
       "                    <a href=\"https://facebook.com/174742062548592/posts/1252941701395284\">2016-10-10 07:20:00</a>\n",
       "                    </blockquote></div></body></html>"
      ],
      "text/plain": [
       "<IPython.core.display.HTML object>"
      ]
     },
     "metadata": {},
     "output_type": "display_data"
    },
    {
     "name": "stdout",
     "output_type": "stream",
     "text": [
      "Done\n"
     ]
    }
   ],
   "source": [
    "# SEARCH HERE\n",
    "query = \"locker\"\n",
    "\n",
    "results=search(query)  # get results\n",
    "results = getScores(results, info)\n",
    "results[\"rows\"] = sorted(results[\"rows\"],key=lambda qResults: qResults.score, reverse=True)\n",
    "limit = 10\n",
    "dupFree = noDuplicates(results, limit)\n",
    "\n",
    "printResults(dupFree, limit)\n"
   ]
  },
  {
   "cell_type": "code",
   "execution_count": 253,
   "metadata": {
    "collapsed": false
   },
   "outputs": [],
   "source": [
    "timeResults = sorted(results[\"rows\"],key=lambda qResults: qResults.timestamp, reverse=True)\n",
    "\n",
    "indicoCaptions = []\n",
    "count = 0\n",
    "for tRes in timeResults:\n",
    "    if count % 2 == 0: # add every 2 (or however many)\n",
    "        try:\n",
    "            indicoCaptions.append(tRes.caption.encode(encoding='UTF-8',errors='strict'))\n",
    "        except:\n",
    "            nothing = 0 # do nothing ** for indent\n",
    "    count += 1\n",
    "#sent = indicoio.sentiment(indicoCaptions)"
   ]
  },
  {
   "cell_type": "code",
   "execution_count": 255,
   "metadata": {
    "collapsed": false
   },
   "outputs": [
    {
     "data": {
      "image/png": "[encoded data removed]",
      "text/plain": [
       "<matplotlib.figure.Figure at 0x7f19b7de7190>"
      ]
     },
     "metadata": {},
     "output_type": "display_data"
    },
    {
     "name": "stdout",
     "output_type": "stream",
     "text": [
      "Results: 139 from: 2016-10-28 17:29:00 to: 2016-05-14 02:43:00\n"
     ]
    }
   ],
   "source": [
    "n_groups = len(sent)\n",
    "\n",
    "fig, ax = plt.subplots()\n",
    "\n",
    "index = np.arange(n_groups)\n",
    "bar_width = 0.35\n",
    "\n",
    "opacity = 0.4\n",
    "    \n",
    "rects1 = plt.bar(index, sent, bar_width,\n",
    "                 alpha=opacity,\n",
    "                 color='b',\n",
    "                 label='Memes')\n",
    "\n",
    "\n",
    "plt.xlabel('Memes Over Time')\n",
    "plt.ylabel('Sentiment')\n",
    "plt.title('Sentiment Over Time')\n",
    "plt.legend()\n",
    "plt.tight_layout()\n",
    "plt.show()\n",
    "showInfo = \"Results: \" + str(len(timeRes)) + \" from: \"\n",
    "showInfo += timeRes[0].timestamp + \" to: \" + timeRes[countBlah-1].timestamp\n",
    "print(showInfo)"
   ]
  }
 ],
 "metadata": {
  "kernelspec": {
   "display_name": "Python 2",
   "language": "python",
   "name": "python2"
  },
  "language_info": {
   "codemirror_mode": {
    "name": "ipython",
    "version": 2
   },
   "file_extension": ".py",
   "mimetype": "text/x-python",
   "name": "python",
   "nbconvert_exporter": "python",
   "pygments_lexer": "ipython2",
   "version": "2.7.11"
  }
 },
 "nbformat": 4,
 "nbformat_minor": 0
}
