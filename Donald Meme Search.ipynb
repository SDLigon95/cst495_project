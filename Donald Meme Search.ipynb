{
 "cells": [
  {
   "cell_type": "code",
   "execution_count": 3,
   "metadata": {
    "collapsed": false
   },
   "outputs": [],
   "source": [
    "import pandas as pd\n",
    "\n",
    "from bokeh.charts import defaults, Bar, output_notebook, show\n",
    "\n",
    "trump = pd.read_csv(\"data/Trump.csv\", nrows=100, index_col=[\"id\"], \n",
    "        usecols=[\"id\", \"caption\", \"likes\", \"network\"], dtype={\"id\": int, \"caption\": str, \"likes\": int, \"network\":str})\n",
    "#dtype={\"user_id\": int, \"username\": object}\n",
    "def clean():\n",
    "    for index, row in trump.iterrows():\n",
    "        #print(row[0])\n",
    "        row[0] = row[0].replace(\"\\\\n\", \"\\n\") #row 3 is caption row\n",
    "        row[0] = row[0].lower()\n",
    "        trump.set_value(index, 0, row[0])\n",
    "def search(query, printResults):\n",
    "    queryCounter = 0\n",
    "    query = query.lower()\n",
    "    for index, row in trump.iterrows():\n",
    "        #print(row[0])\n",
    "        if query in row[0]: #row 3 is caption row\n",
    "            queryCounter += 1\n",
    "            if printResults is True:\n",
    "                print(\"Index: \" + str(index) + \"\\nCaption: \" + row[0] + \"\\n\")\n",
    "    \n",
    "    return queryCounter\n",
    "                     \n",
    "clean()"
   ]
  },
  {
   "cell_type": "code",
   "execution_count": 42,
   "metadata": {
    "collapsed": false
   },
   "outputs": [
    {
     "name": "stdout",
     "output_type": "stream",
     "text": [
      "100\n"
     ]
    }
   ],
   "source": [
    "query = \"Trump\"\n",
    "\n",
    "print(search(query, False))\n",
    "#list(trump.columns.values)\n"
   ]
  }
 ],
 "metadata": {
  "kernelspec": {
   "display_name": "Python 2",
   "language": "python",
   "name": "python2"
  },
  "language_info": {
   "codemirror_mode": {
    "name": "ipython",
    "version": 2
   },
   "file_extension": ".py",
   "mimetype": "text/x-python",
   "name": "python",
   "nbconvert_exporter": "python",
   "pygments_lexer": "ipython2",
   "version": "2.7.11"
  }
 },
 "nbformat": 4,
 "nbformat_minor": 0
}
