{
 "cells": [
  {
   "cell_type": "markdown",
   "metadata": {},
   "source": [
    "# 'Presidential' Meme Search Engine\n",
    "## Creators: Nigel Hardy and Scott Ligon\n",
    "\n",
    "Our corpus consists of links to memes, number of likes, the network they originate from, the text from the meme obtained by OCR, and the time the meme was posted. Originally there were multiple csv files containing memes about Bernie Sanders, Hillary Clinton, Donald Trump, and a few others. We used pandas to remove newline characters and build a cleaner dataset that was ready to be searched in our notebook.\n"
   ]
  },
  {
   "cell_type": "code",
   "execution_count": 167,
   "metadata": {
    "collapsed": false
   },
   "outputs": [],
   "source": [
    "# IMPORT VARIOUS LIBRARIES\n",
    "import pandas as pd\n",
    "import datetime\n",
    "import urllib2\n",
    "from IPython.display import display\n",
    "from pyparsing import makeHTMLTags, withAttribute, Optional, Group\n",
    "from IPython.core.display import HTML\n",
    "from difflib import SequenceMatcher\n",
    "%matplotlib inline\n",
    "import numpy as np\n",
    "import matplotlib.pyplot as plt\n",
    "import indicoio\n",
    "indicoio.config.api_key = 'b669130e3e1d07909794d8e5b7a6b11e'"
   ]
  },
  {
   "cell_type": "markdown",
   "metadata": {},
   "source": [
    "# Old code\n",
    "This is the code we used to import the csv file and clean it to get ready for searching. We ended up saving the dataframe into a new csv in order to speed of the process of getting started.\n",
    "\n",
    "tldr; You don't need to run this code, but it won't cause a problem either."
   ]
  },
  {
   "cell_type": "code",
   "execution_count": 196,
   "metadata": {
    "collapsed": false
   },
   "outputs": [
    {
     "name": "stdout",
     "output_type": "stream",
     "text": [
      "                   timestamp                      link  \\\n",
      "id                                                       \n",
      "668802   2016-06-02 12:01:00  http://imgur.com/a/wOoTe   \n",
      "3088663  2016-10-23 07:50:00  http://imgur.com/Y8SzGVV   \n",
      "3116976  2016-10-23 07:50:00  http://imgur.com/Y8SzGVV   \n",
      "2731705  2016-10-09 07:32:00  http://imgur.com/2d5AxL6   \n",
      "2622676  2016-09-29 04:29:00  http://imgur.com/a/OTBU6   \n",
      "\n",
      "                                                   caption network  likes  \n",
      "id                                                                         \n",
      "668802   ooooo rogers 11:47 pm t 25% upandoutcomic bern...   imgur     -4  \n",
      "3088663  the \"communism is too extreme\" starter pack gr...   imgur      0  \n",
      "3116976  the \"communism is too extreme\" starter pack gr...   imgur      0  \n",
      "2731705  is snoop dogg cute ugly? i just wanted to know...   imgur      0  \n",
      "2622676  discuss ctr infiltrators! are w next target???...   imgur      0  \n",
      "Done\n"
     ]
    }
   ],
   "source": [
    "# original import data DONT RUN ANYMORE\n",
    "'''trump = pd.read_csv(\"clean.csv\", index_col=[\"id\"],\n",
    "        usecols=[\"id\", \"caption\", \"likes\", \"network\", \"link\",\"timestamp\"], \n",
    "                    dtype={\"id\": int, \"caption\": str,\"link\":str, \"likes\": int, \"network\":str, \"timestamp\":str})'''\n",
    "# nrows=10 # limit read csv rows read\n",
    "#list(trump.columns.values) # used to list columns\n",
    "#print trump.head()\n",
    "wordCount = 0\n",
    "rowCount = 0\n",
    "#trump.drop_duplicates(subset='caption', keep='last') #get rid of identical captions\n",
    "def clean():\n",
    "    wCount = 0\n",
    "    rCount = 0\n",
    "    for index, row in trump.iterrows():\n",
    "        row[\"caption\"] = row[\"caption\"].replace(\"\\\\n\", \"\")\n",
    "        row[\"caption\"] = row[\"caption\"].lower()\n",
    "        wCount += len(row[\"caption\"].split())\n",
    "        rCount += 1\n",
    "        trump.set_value(index, \"caption\", row[\"caption\"])\n",
    "        trump.set_value(index, \"timestamp\", datetime.datetime.strptime(row[\"timestamp\"], \"%Y-%m-%d %H:%M:%S\"))\n",
    "        sent = 0\n",
    "        try:\n",
    "            string = row[\"caption\"].encode(encoding='UTF-8',errors='strict')\n",
    "            sent = indicoio.sentiment(string)\n",
    "            sent = (sent - .5) * 2\n",
    "        except:\n",
    "            sent = 0\n",
    "        trump.set_value(index, \"sentiment\", sent)\n",
    "    info = {}\n",
    "    info[\"words\"] = wCount # total number of words\n",
    "    info[\"rows\"] = rCount # number of rows\n",
    "    info[\"avgWords\"] = wCount / rCount # ang words in each document\n",
    "    return info\n",
    "\n",
    "#info = clean()\n",
    "#trump.to_csv(\"clean-sentiment.csv\")\n",
    "print(\"Done\")"
   ]
  },
  {
   "cell_type": "markdown",
   "metadata": {},
   "source": [
    "# Loading in data\n",
    "Here we import the data and get some basic information regarding how many words and results are in the corpus. We have just over 30,000 different memes to search through."
   ]
  },
  {
   "cell_type": "code",
   "execution_count": 220,
   "metadata": {
    "collapsed": false
   },
   "outputs": [
    {
     "name": "stdout",
     "output_type": "stream",
     "text": [
      "Done\n"
     ]
    }
   ],
   "source": [
    "# run to get data into python/notebook\n",
    "\n",
    "class qResults: # class for query results\n",
    "    def __init__(self, caption, network, likes, link, timestamp, sentiment):\n",
    "        self.caption = caption\n",
    "        self.link = link\n",
    "        self.network = network\n",
    "        self.likes = likes\n",
    "        self.score = 0\n",
    "        self.timestamp = timestamp\n",
    "        self.sentiment = sentiment\n",
    "        \n",
    "def getInfo():\n",
    "    wCount = 0\n",
    "    rCount = 0\n",
    "    for index, row in trump.iterrows():\n",
    "        wCount += len(row[\"caption\"].split())\n",
    "        rCount += 1\n",
    "    info = {}\n",
    "    info[\"words\"] = wCount # total number of words\n",
    "    info[\"rows\"] = rCount # number of rows\n",
    "    info[\"avgWords\"] = wCount / rCount # ang words in each document\n",
    "    return info\n",
    "# read already cleaned dataset\n",
    "trump = pd.read_csv(\"clean-sentiment.csv\", index_col=[\"id\"],\n",
    "        usecols=[\"id\", \"caption\", \"likes\", \"network\", \"link\",\"timestamp\", \"sentiment\"], \n",
    "                    dtype={\"id\": int, \"caption\": str,\"link\":str, \"likes\": int, \"network\":str, \"timestamp\":str, \"sentiment\": float})\n",
    "info = getInfo() # get some basic info on dataframe\n",
    "#print list(trump.columns.values)\n",
    "print(\"Done\")"
   ]
  },
  {
   "cell_type": "markdown",
   "metadata": {},
   "source": [
    "### Facebook script to embed posts\n",
    "Please reload page after searching to make them show up"
   ]
  },
  {
   "cell_type": "code",
   "execution_count": 303,
   "metadata": {
    "collapsed": false
   },
   "outputs": [
    {
     "data": {
      "text/html": [
       "<div id=\"fb-root\"></div>\n",
       "<script>(function(d, s, id) {\n",
       "  var js, fjs = d.getElementsByTagName(s)[0];\n",
       "  if (d.getElementById(id)) return;\n",
       "  js = d.createElement(s); js.id = id;\n",
       "  js.src = \"//connect.facebook.net/en_US/sdk.js#xfbml=1&version=v2.8\";\n",
       "  fjs.parentNode.insertBefore(js, fjs);\n",
       "}(document, 'script', 'facebook-jssdk'));</script>"
      ],
      "text/plain": [
       "<IPython.core.display.HTML object>"
      ]
     },
     "metadata": {},
     "output_type": "display_data"
    }
   ],
   "source": [
    "#facebook script for display of memes\n",
    "htmlScript = \"\"\"<div id=\"fb-root\"></div>\n",
    "<script>(function(d, s, id) {\n",
    "  var js, fjs = d.getElementsByTagName(s)[0];\n",
    "  if (d.getElementById(id)) return;\n",
    "  js = d.createElement(s); js.id = id;\n",
    "  js.src = \"//connect.facebook.net/en_US/sdk.js#xfbml=1&version=v2.8\";\n",
    "  fjs.parentNode.insertBefore(js, fjs);\n",
    "}(document, 'script', 'facebook-jssdk'));</script>\"\"\"\n",
    "htmlScr = HTML(htmlScript)\n",
    "display(htmlScr)"
   ]
  },
  {
   "cell_type": "markdown",
   "metadata": {},
   "source": [
    "### Basic search and displaying of results\n",
    "We started with BM25 and then applied number of likes as well\n",
    "\n",
    "Displaying the results to get help assess the effectiveness of our search was important. The captions alone do not tell the whole story. We have checked for similar memes (there are a lot of slight variations that we are excluding) and made sure the links were still active. This was one of the most time consuming parts of our project. Once it was working we were able to refine the search. It made us aware of the duplicates. Luckily most images had widly different numbers of likes and that helped them get differentiated."
   ]
  },
  {
   "cell_type": "code",
   "execution_count": 299,
   "metadata": {
    "collapsed": false
   },
   "outputs": [],
   "source": [
    "def search(query):\n",
    "    global trump # dataframe of memes\n",
    "    results = [] # list for results\n",
    "    qFrequency = {} # dictionary for frequency of each word in query\n",
    "    query = query.lower() # make consistent\n",
    "    qSplit = query.split()\n",
    "    if len(qSplit) > 1: # query has two or more words\n",
    "        for qry in qSplit:\n",
    "            qFrequency[qry] = 0\n",
    "    else:\n",
    "        qFrequency[query] = 0\n",
    "    qSplit = query.split() # split into each word\n",
    "    for index, row in trump.iterrows():\n",
    "        if len(query.split()) > 0: # query has two or more words\n",
    "            allFound = True # all words query must be present to keep\n",
    "            for qry in qSplit: # go through each word in query string\n",
    "                if qry in row[\"caption\"]:\n",
    "                    qFrequency[qry] += row[\"caption\"].count(qry) # increment frequency of word in dataset       \n",
    "                else:\n",
    "                    allFound = False; # skip, not all words in query found\n",
    "            if allFound is True:\n",
    "                newResult = qResults(row[\"caption\"], row[\"network\"], row[\"likes\"], row[\"link\"], row[\"timestamp\"], row[\"sentiment\"])\n",
    "                results.append(newResult) \n",
    "    res = {} # init dict to return\n",
    "    res[\"rows\"] = results # each results in a list\n",
    "    res[\"qf\"] = qFrequency # frequency of terms in a dictionary\n",
    "    return res\n",
    "\n",
    "def printResults(results, limit, showCaption, showScore, showSentiment):\n",
    "    count = 0\n",
    "    htmlStr = \"<html><body>\" # begin html string\n",
    "    style = \"style=\\\"width:50%;\\\" \" # for images formatting\n",
    "    for r in results:\n",
    "        if count >= limit: #stop after limit\n",
    "            break\n",
    "        else:\n",
    "            if r.network == \"instagram\":\n",
    "                tempurl = \"https://www.{0}/\".format(r.link[8:len(r.link)])\n",
    "                try:\n",
    "                    response = urllib2.urlopen(tempurl) # check if exists\n",
    "                    html = response.read()\n",
    "                    meta,metaEnd = makeHTMLTags(\"meta\")\n",
    "                    img_meta = meta.copy().setParseAction(withAttribute(('property','og:image'))) # get image\n",
    "                    if showScore is True:\n",
    "                        htmlStr += '<p>Score: ' + str(r.score) + '</p>'\n",
    "                    if showCaption is True:\n",
    "                        htmlStr += '<p>Date: ' + str(r.timestamp) + \" caption: \" + r.caption + '</p>'\n",
    "                    if showSentiment is True:\n",
    "                        htmlStr += '<p>Sentiment: ' + str(r.sentiment) + '</p>'\n",
    "                    htmlStr += \"<img \" + style + \"src='\" + img_meta.searchString(html)[0].content + \"'>\" # show images\n",
    "                    \n",
    "                except:\n",
    "                    \"\"\"htmlStr += '<br><p>Instagram Image Not Found :(<br>'\n",
    "                    htmlStr += '<p>Score: ' + str(r.score) + \" url: \" + r.link + '</p>'\n",
    "                    htmlStr += '<p>Date: ' + str(r.timestamp) + \" caption: \" + r.caption + '</p>'\"\"\"\n",
    "                    limit += 1\n",
    "            elif r.network == \"imgur\":\n",
    "                tempurl = r.link\n",
    "                try:\n",
    "                    response = urllib2.urlopen(tempurl) # check if link is valid\n",
    "                    html = response.read()\n",
    "                    meta,metaEnd = makeHTMLTags(\"meta\")\n",
    "                    img_meta = meta.copy().setParseAction(withAttribute(('name','twitter:image'))) # find image\n",
    "                    if showScore is True:\n",
    "                        htmlStr += '<p>Score: ' + str(r.score) + '</p>'\n",
    "                    if showCaption is True:\n",
    "                        htmlStr += '<p>Date: ' + str(r.timestamp) + \" caption: \" + r.caption + '</p>'\n",
    "                    if showSentiment is True:\n",
    "                        htmlStr += '<p>Sentiment: ' + str(r.sentiment) + '</p>'\n",
    "                    htmlStr += \"<img \" + style + \"src='\" + img_meta.searchString(html)[0].content + \"'>\" # show images\n",
    "                except:\n",
    "                    \"\"\"htmlStr += '<br><p>Imgur Image Not Found :(<br>'\n",
    "                    htmlStr += '<p>Score: ' + str(r.score) + \" url: \" + r.link + '</p>'\n",
    "                    htmlStr += '<p>Date: ' + str(r.timestamp) + \" caption: \" + r.caption + '</p>'\"\"\"\n",
    "                    limit += 1\n",
    "\n",
    "            elif r.network == \"facebook\":\n",
    "                try:\n",
    "                    response = urllib2.urlopen(r.link) # check if link is valid\n",
    "                    if showScore is True:\n",
    "                        htmlStr += '<p>Score: ' + str(r.score) + '</p>'\n",
    "                    if showCaption is True:\n",
    "                        htmlStr += '<p>Date: ' + str(r.timestamp) + \" caption: \" + r.caption + '</p>'\n",
    "                    if showSentiment is True:\n",
    "                        htmlStr += '<p>Sentiment: ' + str(r.sentiment) + '</p>'\n",
    "                    htmlStr += \"\"\"<div class=\"fb-post\" data-href=\"{0}\" \n",
    "                    data-width=\"500\" data-show-text=\"true\"><blockquote cite=\"{0}\" \n",
    "                    class=\"fb-xfbml-parse-ignore\">Posted by <a href=\"https://www.facebook.com/facebook/\">Facebook</a> on&nbsp;\n",
    "                    <a href=\"{0}\">{1}</a>\n",
    "                    </blockquote></div>\"\"\".format(r.link, str(r.timestamp))\n",
    "                except:\n",
    "                    limit += 1\n",
    "                            \n",
    "        count += 1\n",
    "    htmlStr += \"</body></html>\" # end html\n",
    "    html = HTML(htmlStr) \n",
    "    display(html) # show html\n",
    "    \n",
    "def similar(a, b): # check similarity of two strings\n",
    "    return SequenceMatcher(None, a, b).ratio()\n",
    "\n",
    "def getScores(results, info, sentiment):\n",
    "    # BM25 Variables\n",
    "    k = 1.2\n",
    "    b = .75\n",
    "    for r in results[\"rows\"]:\n",
    "        r.score = 0\n",
    "        if r.network == \"imgur\" or r.network == \"instagram\" or r.network == \"facebook\":\n",
    "        #if r.network == \"imgur\" or r.network == \"instagram\": # witout facebook\n",
    "            for q in results[\"qf\"]: # give bm25 based score\n",
    "                fqd = r.caption.count(q)\n",
    "                tempScore = ((fqd * (k + 1) / (fqd + k * (1 - b + b * len(r.caption) / info[\"avgWords\"]))))\n",
    "                tempScore *= (info[\"rows\"] - results[\"qf\"][q] + .5) / (results[\"qf\"][q] + .5)\n",
    "                likeScore = r.likes * .1\n",
    "                maxLikeInfluence = 10\n",
    "                if likeScore > maxLikeInfluence:\n",
    "                    likeScore = maxLikeInfluence\n",
    "                elif likeScore < -maxLikeInfluence:\n",
    "                    likeScore = -maxLikeInfluence\n",
    "                tempScore += likeScore\n",
    "                r.score += tempScore\n",
    "\n",
    "    return results\n",
    "\n",
    "def noDuplicates(results, limit):\n",
    "    count = 0\n",
    "    dupFree = [] # no caption duplicates\n",
    "    index = 0\n",
    "    if(len(results[\"rows\"]) > 0):\n",
    "        dupFree.append(results[\"rows\"][index]) # add first to list\n",
    "        index += 1\n",
    "        dupLimit = limit * 1.5 # get extra in case links are dead\n",
    "        if dupLimit > len(results[\"rows\"]):\n",
    "            dupLimit = len(results[\"rows\"])\n",
    "        while len(dupFree) < dupLimit and index < len(results[\"rows\"]):\n",
    "            dupFound = False # catch if similar caption found\n",
    "            for i in dupFree:\n",
    "                if similar(i.caption, results[\"rows\"][index].caption) > .8: # checks similarity\n",
    "                    dupFound = True # duplicate found, don't add\n",
    "            if dupFound == False:\n",
    "                dupFree.append(results[\"rows\"][index]) # not a dup, add it\n",
    "            index += 1\n",
    "    else:\n",
    "        print \"No results found.\"\n",
    "    return dupFree"
   ]
  },
  {
   "cell_type": "markdown",
   "metadata": {},
   "source": [
    "## Enter the query below."
   ]
  },
  {
   "cell_type": "code",
   "execution_count": 302,
   "metadata": {
    "collapsed": false,
    "scrolled": false
   },
   "outputs": [
    {
     "name": "stdout",
     "output_type": "stream",
     "text": [
      "Results: 192\n"
     ]
    },
    {
     "data": {
      "text/html": [
       "<html><body><p>Score: 101.764439454</p><p>Date: 2016-05-17 23:55:00 caption: build the wall trump 2016</p><p>Sentiment: -0.5377500442</p><img style=\"width:50%;\" src='https://i.imgur.com/sQZFw2z.png'><p>Score: 90.7451720036</p><p>Date: 2016-10-11 15:52:00 caption: orangefuzzysocks & the trump pence they go! a j let's destroy america jnj & build a big wall</p><p>Sentiment: -0.7934045434</p><img style=\"width:50%;\" src='https://instagram.fsnc1-3.fna.fbcdn.net/t51.2885-15/s750x750/sh0.08/e35/14597262_1862286527328366_6740944964844257280_n.jpg?ig_cache_key=MTM1ODc5NjIwNTQ0MjEwNDc0Nw%3D%3D.2'><p>Score: 84.6665910343</p><p>Date: 2016-03-01 23:19:00 caption: reporter: how will we combat the issue of poverty? trump: we build a wall reporter: but- trump: wall! t r u m p www. donald trump com ake america again!</p><p>Sentiment: 0.1888172102</p><img style=\"width:50%;\" src='https://instagram.fsnc1-3.fna.fbcdn.net/t51.2885-15/e35/12677507_488534047998688_1896490618_n.jpg?ig_cache_key=MTE5NjY3MTQxMTc4OTU2OTg5Nw%3D%3D.2'><p>Score: 77.1150209827</p><p>Date: 2016-06-28 00:50:00 caption: viet food so authentic trump would build a wall around it</p><p>Sentiment: 0.2371379624</p><img style=\"width:50%;\" src='https://i.imgur.com/g0ZfjeL.png?1'><p>Score: 74.0816153598</p><p>Date: 2016-10-23 06:00:00 caption: umtr trump immigration plan: 1. build southern art wall 2. end catch and release 3. zerontolerance for \"criminal aliens\" 4 take care of citizens nematic net</p><p>Sentiment: 0.3861478354</p><div class=\"fb-post\" data-href=\"https://facebook.com/568982666502934/posts/1135768086491053\" \n",
       "                    data-width=\"500\" data-show-text=\"true\"><blockquote cite=\"https://facebook.com/568982666502934/posts/1135768086491053\" \n",
       "                    class=\"fb-xfbml-parse-ignore\">Posted by <a href=\"https://www.facebook.com/facebook/\">Facebook</a> on&nbsp;\n",
       "                    <a href=\"https://facebook.com/568982666502934/posts/1135768086491053\">2016-10-23 06:00:00</a>\n",
       "                    </blockquote></div><p>Score: 73.1379974058</p><p>Date: 2016-04-06 21:20:00 caption: trump: gonna build a long, huge terrific wall reporter: my question was about the conflict in syria trump: \"my question was about the conflict in syria\" asipopa</p><p>Sentiment: 0.4258668694</p><img style=\"width:50%;\" src='https://instagram.fsnc1-3.fna.fbcdn.net/t51.2885-15/e35/12905260_1603715943285564_679195116_n.jpg?ig_cache_key=MTIyMjcwMzY0MTY4OTk5ODQxMw%3D%3D.2'><p>Score: 71.3949254846</p><p>Date: 2016-09-21 23:55:00 caption: how did trump win? now were all going to move! bernie afutu believ ernie democratic national convention berni ijust maderamericagreatagain and i didnit even build the wall</p><p>Sentiment: -0.4234761992</p><div class=\"fb-post\" data-href=\"https://facebook.com/628208987206774/posts/1335788583115474\" \n",
       "                    data-width=\"500\" data-show-text=\"true\"><blockquote cite=\"https://facebook.com/628208987206774/posts/1335788583115474\" \n",
       "                    class=\"fb-xfbml-parse-ignore\">Posted by <a href=\"https://www.facebook.com/facebook/\">Facebook</a> on&nbsp;\n",
       "                    <a href=\"https://facebook.com/628208987206774/posts/1335788583115474\">2016-09-21 23:55:00</a>\n",
       "                    </blockquote></div><p>Score: 67.439673315</p><p>Date: 2016-10-17 13:48:00 caption: 1. build dat wall (feat. mikey pizzence) 2. pussy? i grabz dat (underground mixtape version, dj billy bush mix) 3. look at dat crook (feat. ary) oh you're a real trump fan? name 3 of his songs then</p><p>Sentiment: -0.4174556842</p><div class=\"fb-post\" data-href=\"https://facebook.com/791373644322801/posts/991427794317384\" \n",
       "                    data-width=\"500\" data-show-text=\"true\"><blockquote cite=\"https://facebook.com/791373644322801/posts/991427794317384\" \n",
       "                    class=\"fb-xfbml-parse-ignore\">Posted by <a href=\"https://www.facebook.com/facebook/\">Facebook</a> on&nbsp;\n",
       "                    <a href=\"https://facebook.com/791373644322801/posts/991427794317384\">2016-10-17 13:48:00</a>\n",
       "                    </blockquote></div><p>Score: 65.433166585</p><p>Date: 2016-09-01 23:45:00 caption: hats tru mp p e n c e 2016 new glow in the dark hats! make mexico $30.00 great again also hidden glowing message proudly made in taiwan just kidding! build the wall and put hillary ona to austra also rocket ship</p><p>Sentiment: 0.7758257444</p><div class=\"fb-post\" data-href=\"https://facebook.com/17614953850/posts/10154444813713851\" \n",
       "                    data-width=\"500\" data-show-text=\"true\"><blockquote cite=\"https://facebook.com/17614953850/posts/10154444813713851\" \n",
       "                    class=\"fb-xfbml-parse-ignore\">Posted by <a href=\"https://www.facebook.com/facebook/\">Facebook</a> on&nbsp;\n",
       "                    <a href=\"https://facebook.com/17614953850/posts/10154444813713851\">2016-09-01 23:45:00</a>\n",
       "                    </blockquote></div><p>Score: 64.1593473401</p><p>Date: 2016-06-16 00:00:00 caption: recommend posted: may 16 buy game play game open server browser see a suprising amount of people for a game this old and obscure >first server \"trump wall roleplay dm (dlc out now)\" join server there is 10 people dressed like trump firing from the wall at approaching mexicans mexicans start shooting tacos at the wall someone starts shouting in chat \"heil trump hell trump trump number 6 tells me to help build more wall i reply \"heil trump\" and use my rocket boots too fly over to one of the unfinished parts of the wall >as i build more wall a mexicano spray paints the isis flag on the side of the wall i do what any logical patriotic trumpmurican would do i build a spawner for a flying carpet and a rainbow cannon call the trumps over >5 minutes later me and all the trumps are on the magic carpet mowing down mexicans with rainbows all the dirty mexiconos leave the server trump wins 9.99/10 like skyrim but with trump i only give it such a low review because there was not more people to this with</p><p>Sentiment: -0.8243914472</p><div class=\"fb-post\" data-href=\"https://facebook.com/1404986179713522/posts/1745478485664288\" \n",
       "                    data-width=\"500\" data-show-text=\"true\"><blockquote cite=\"https://facebook.com/1404986179713522/posts/1745478485664288\" \n",
       "                    class=\"fb-xfbml-parse-ignore\">Posted by <a href=\"https://www.facebook.com/facebook/\">Facebook</a> on&nbsp;\n",
       "                    <a href=\"https://facebook.com/1404986179713522/posts/1745478485664288\">2016-06-16 00:00:00</a>\n",
       "                    </blockquote></div></body></html>"
      ],
      "text/plain": [
       "<IPython.core.display.HTML object>"
      ]
     },
     "metadata": {},
     "output_type": "display_data"
    }
   ],
   "source": [
    "# SEARCH HERE\n",
    "query = \"build the wall\"\n",
    "\n",
    "results=search(query)  # get results\n",
    "results = getScores(results, info, True) # last boolean adds sentiment to score (positive is better)\n",
    "results[\"rows\"] = sorted(results[\"rows\"],key=lambda qResults: qResults.score, reverse=True)\n",
    "limit = 10 # how many results to display\n",
    "dupFree = noDuplicates(results, limit)\n",
    "print \"Results: \" + str(len(results[\"rows\"]))\n",
    "showCaption = True # show caption\n",
    "showScore = True # show score\n",
    "showSentiment = True # show sentiment value -1 to 1\n",
    "printResults(dupFree, limit, showCaption, showScore, showSentiment)"
   ]
  },
  {
   "cell_type": "markdown",
   "metadata": {},
   "source": [
    "### Feedback\n",
    "The first feedback we recieved or interpreted was the disappointed originally when the actual memes themselves were not displayed. However, once they were duplicates (or similar) memes was the next most annoying part of the problem. It was also fairly slow, because the images had to be fetched from the internet each time. \n",
    "\n",
    "The next problem we faced was a high score for images with a lot of text. We had made a mistake in our implementation of tf-idf, so fixing that helped make the scores more meaningful. \n",
    "\n",
    "In hindsight, we could have spent more time making it scalable and fast using spark, but ultimately the most time consuming part of the process is displaying the images. We believe that this part was crucial and so prioritized it, but if we had more time that would have been the next step."
   ]
  },
  {
   "cell_type": "code",
   "execution_count": 277,
   "metadata": {
    "collapsed": false
   },
   "outputs": [],
   "source": [
    "timeResults = sorted(results[\"rows\"],key=lambda qResults: qResults.timestamp, reverse=True)\n",
    "sentimentCaptions = {}\n",
    "indicoCaptions = []\n",
    "sentimentCaptions[\"caption\"] = []\n",
    "sentimentCaptions[\"sentiment\"] = []\n",
    "count = 0\n",
    "for tRes in timeResults:\n",
    "    if count % 2 == 0 and count < 20: # add every 2 (or however many)\n",
    "        try:\n",
    "            sentimentCaptions[\"caption\"].append(tRes.caption.encode(encoding='UTF-8',errors='strict'))\n",
    "        except:\n",
    "            nothing = 0 # do nothing ** for indent\n",
    "    count += 1\n",
    "count = 0\n",
    "sent = indicoio.sentiment(sentimentCaptions[\"caption\"])\n",
    "for s in sent:\n",
    "    sentimentCaptions[\"sentiment\"].append(s)\n",
    "    count += 1\n",
    "count = 0\n"
   ]
  },
  {
   "cell_type": "markdown",
   "metadata": {},
   "source": [
    "### The code above and below this comment helps display the chart that utilizes an api from inidicio. Over time, the bars represent how strong the query shows up within memes.\n",
    "There were no strong correlations, partially because the sentiment detection was not always accurate, and the captions were short. This was largely abandoned, but we added sentiment to the search ranking (30,000 api calls!)"
   ]
  },
  {
   "cell_type": "code",
   "execution_count": 279,
   "metadata": {
    "collapsed": false
   },
   "outputs": [
    {
     "data": {
      "image/png": "[encoded data removed]",
      "text/plain": [
       "<matplotlib.figure.Figure at 0x7fc96ed9fed0>"
      ]
     },
     "metadata": {},
     "output_type": "display_data"
    },
    {
     "name": "stdout",
     "output_type": "stream",
     "text": [
      "Results: 10 from: \n"
     ]
    }
   ],
   "source": [
    "n_groups = len(sent)\n",
    "\n",
    "fig, ax = plt.subplots()\n",
    "\n",
    "index = np.arange(n_groups)\n",
    "bar_width = 0.35\n",
    "\n",
    "opacity = 0.4\n",
    "    \n",
    "rects1 = plt.bar(index, sentimentCaptions[\"sentiment\"], bar_width,\n",
    "                 alpha=opacity,\n",
    "                 color='b',\n",
    "                 label='Memes')\n",
    "\n",
    "\n",
    "plt.xlabel('Memes Over Time')\n",
    "plt.ylabel('Sentiment')\n",
    "plt.title('Sentiment Over Time')\n",
    "plt.legend()\n",
    "plt.tight_layout()\n",
    "plt.show()\n",
    "showInfo = \"Results: \" + str(len(sentimentCaptions[\"sentiment\"])) + \" from: \"\n",
    "print(showInfo)"
   ]
  },
  {
   "cell_type": "markdown",
   "metadata": {},
   "source": [
    "## Experimentation\n",
    "We experimented with a little bit a spark, but had too many other projects due and did not get to actually implementing it into our project."
   ]
  },
  {
   "cell_type": "code",
   "execution_count": 280,
   "metadata": {
    "collapsed": true
   },
   "outputs": [],
   "source": [
    "import findspark\n",
    "import os\n",
    "findspark.init(os.getenv('HOME') + '/spark-1.6.0-bin-hadoop2.6')\n",
    "os.environ['PYSPARK_SUBMIT_ARGS'] = '--packages com.databricks:spark-csv_2.10:1.3.0 pyspark-shell'"
   ]
  },
  {
   "cell_type": "code",
   "execution_count": 281,
   "metadata": {
    "collapsed": false
   },
   "outputs": [
    {
     "name": "stdout",
     "output_type": "stream",
     "text": [
      "30072\n",
      "<pyspark.context.SparkContext object at 0x7fc97761e210>\n",
      "+-------------------+--------------------+\n",
      "|          timestamp|             caption|\n",
      "+-------------------+--------------------+\n",
      "|2016-10-29 19:26:00|with both of the ...|\n",
      "|2016-07-29 20:52:00|obama has been ki...|\n",
      "|2016-06-21 04:00:00|nut for honorlici...|\n",
      "|2016-09-11 17:34:00|(was zaryai sahme...|\n",
      "|2016-10-17 05:11:00|someone setfireto...|\n",
      "|2016-06-02 01:34:00|81 9:31 pm at&t m...|\n",
      "|2016-05-17 02:20:00|       feel the bern|\n",
      "|2016-03-18 12:30:00|stare into the be...|\n",
      "|2016-04-21 03:38:00|trump hillary, fe...|\n",
      "|2016-04-06 03:25:00|a chelsea clinton...|\n",
      "|2016-03-04 05:43:00|nie >i was only 9...|\n",
      "|2015-02-21 12:15:00|there is a 500-ye...|\n",
      "|2016-06-26 17:33:00|ok- whoever the e...|\n",
      "|2016-05-16 02:52:00|bernaste the bern...|\n",
      "|2016-04-25 13:27:00|when you accident...|\n",
      "|2016-10-18 16:37:00|m beijo bern cari...|\n",
      "|2016-08-28 21:29:00|\"you just can't m...|\n",
      "|2016-05-03 06:17:00|feel the eel ti f...|\n",
      "|2016-07-25 22:45:00|my aesthetic is t...|\n",
      "|2016-05-08 17:35:00|tch ept noseusted...|\n",
      "+-------------------+--------------------+\n",
      "only showing top 20 rows\n",
      "\n"
     ]
    }
   ],
   "source": [
    "print len(trump)\n",
    "import pyspark\n",
    "try: \n",
    "    print(sc)\n",
    "except NameError:\n",
    "    sc = pyspark.SparkContext()\n",
    "    print(sc)\n",
    "from pyspark import SQLContext\n",
    "sqlc = SQLContext(sc)\n",
    "    \n",
    "df = sqlc.createDataFrame(trump)\n",
    "sqlc.registerDataFrameAsTable(df, 'caption')\n",
    "sqlc.sql(\"select timestamp, caption from caption where likes > 0\").show()"
   ]
  },
  {
   "cell_type": "code",
   "execution_count": null,
   "metadata": {
    "collapsed": true
   },
   "outputs": [],
   "source": []
  }
 ],
 "metadata": {
  "kernelspec": {
   "display_name": "Python 2",
   "language": "python",
   "name": "python2"
  },
  "language_info": {
   "codemirror_mode": {
    "name": "ipython",
    "version": 2
   },
   "file_extension": ".py",
   "mimetype": "text/x-python",
   "name": "python",
   "nbconvert_exporter": "python",
   "pygments_lexer": "ipython2",
   "version": "2.7.11"
  }
 },
 "nbformat": 4,
 "nbformat_minor": 0
}
